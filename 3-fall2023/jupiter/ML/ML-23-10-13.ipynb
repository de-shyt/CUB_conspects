{
 "cells": [
  {
   "cell_type": "markdown",
   "metadata": {},
   "source": [
    "# Transformer implementation"
   ]
  },
  {
   "cell_type": "code",
   "execution_count": 1,
   "metadata": {},
   "outputs": [],
   "source": [
    "import math\n",
    "import torch\n",
    "from torch import nn\n",
    "\n",
    "device = torch.device(\"cuda\")\n",
    "\n",
    "max_seq_len, embedding_size, head_count, layer_count, batch_size, epoch_count = 128, 256, 8, 8, 256, 100\n"
   ]
  },
  {
   "cell_type": "markdown",
   "metadata": {},
   "source": [
    "The class `Embeddings` is designed to perform embedding of input indices into continuous vector representations. \n",
    "\n",
    "`self.embed` is a network layer responsible for mapping discrete indices to vector representations. \n",
    "\n",
    "The `forward` method defines the forward pass of the neural network. The forward pass is the process of taking the input, passing it through networks layers and then getting the final output. "
   ]
  },
  {
   "cell_type": "code",
   "execution_count": 2,
   "metadata": {},
   "outputs": [],
   "source": [
    "class Embedding(torch.nn.Module):\n",
    "    def __init__(self, vocab_size, embed_dim):\n",
    "        super(Embedding, self).__init__()\n",
    "        self.embed = nn.Embedding(vocab_size, embed_dim)\n",
    "    def forward(self, x):\n",
    "        out = self.embed(x)\n",
    "        return out"
   ]
  },
  {
   "cell_type": "code",
   "execution_count": 3,
   "metadata": {},
   "outputs": [],
   "source": [
    "class PositionalEncoding(torch.nn.Module):\n",
    "    def __init__(self, embed_dim, max_seq_len):\n",
    "        super(PositionalEncoding, self).__init__()\n",
    "        self.embed_dim = embed_dim\n",
    "        pe = torch.zeros(max_seq_len, self.embed_dim)\n",
    "        for pos in range(max_seq_len):\n",
    "            for i in range(0, self.embed_dim, 2):\n",
    "                pe[pos, i] = math.sin(pos / (10000 ** (2 * i / self.embed_dim)))\n",
    "                pe[pos, i + 1] = math.cos(pos / (10000 ** (2 * (i + 1) / self.embed_dim)))\n",
    "        pe = pe.unsqueeze(0)\n",
    "        self.register_buffer('pe', pe)       # pre-calculate and freeze\n",
    "\n",
    "    def forward(self, x):\n",
    "        seq_len = x.size(1)\n",
    "        return x * math.sqrt(self.embed_dim) + torch.autograd.Variable(self.pe[:,:seq_len], requires_grad=False)\n",
    "        # return x + torch.autograd.Variable(self.pe[:,:seq_len], requires_grad=False)"
   ]
  },
  {
   "cell_type": "markdown",
   "metadata": {},
   "source": [
    "Multihead attention can be thought of as a bunch of stacked attention primitives. \n",
    "\n",
    "In the attention, we have several channels. We split the channels into attention heads. Then we apply the attention mechanism to the heads and, finnalt, gather the results into one representation. "
   ]
  },
  {
   "cell_type": "code",
   "execution_count": 4,
   "metadata": {},
   "outputs": [],
   "source": [
    "class MultiHeadAttention(torch.nn.Module):\n",
    "    def __init__(self, embed_dim, num_heads):\n",
    "        super(MultiHeadAttention, self).__init__()\n",
    "        self.embed_dim = embed_dim\n",
    "        self.num_heads = num_heads\n",
    "        self.single_head_dim = self.embed_dim // self.num_heads   # 512 / 8 = 64, every head takes its part of the input\n",
    "        self.query_matrix = torch.nn.Linear(self.embed_dim, self.embed_dim, bias=False)  # a big matrix for the whole input\n",
    "        self.key_matrix = torch.nn.Linear(self.embed_dim, self.embed_dim, bias=False)    # we will split the heads later on\n",
    "        self.value_matrix = torch.nn.Linear(self.embed_dim, self.embed_dim, bias=False)\n",
    "        self.mixer = torch.nn.Linear(self.embed_dim, self.embed_dim)\n",
    "\n",
    "    def scaled_dot_product_attention(self, Q, K, V, mask=None):\n",
    "        # Q, K, V shapes are (batch x length x single_head_dim) == (32 x 10 x 64)\n",
    "        scores = torch.matmul(Q, K.transpose(-2, -1)) / math.sqrt(self.single_head_dim)\n",
    "        # scores shape is (batch x length x length) == (32 x 10 x 10)\n",
    "        if mask is not None:\n",
    "            scores = scores.masked_fill(mask == False, -1e9)    # put large negative numbers to positions where mask == False\n",
    "        probs = torch.softmax(scores, dim=-1)                   # transform scores to probabilities (B x L x L)\n",
    "                                                                # for each sample in the batch tell how ith token is important to jth token\n",
    "        return torch.matmul(probs, V)                           # re-weigh values according to the probabilities\n",
    "\n",
    "    def split_heads(self, x):\n",
    "        batch_size, seq_length, embed_dim = x.size()            # B x L x D\n",
    "        assert self.embed_dim == embed_dim\n",
    "        return x.view(                                          # B x L x H x d\n",
    "            batch_size,\n",
    "            seq_length,\n",
    "            self.num_heads,\n",
    "            self.single_head_dim,\n",
    "        ).transpose(1, 2)                                       # B x H x L x d\n",
    "        \n",
    "    def combine_heads(self, x):\n",
    "        batch_size, num_heads, seq_length, single_head_dim = x.size()\n",
    "        assert self.num_heads == num_heads\n",
    "        assert self.single_head_dim == single_head_dim\n",
    "        # B x H x L x d   => \n",
    "        # B x L x H x d   =>\n",
    "        # B x L x D\n",
    "        return x.transpose(1, 2).contiguous().view(batch_size, seq_length, self.embed_dim)\n",
    "        \n",
    "    def forward(self, Q, K, V, mask=None):\n",
    "        Q = self.split_heads(self.query_matrix(Q))\n",
    "        K = self.split_heads(self.key_matrix(K))\n",
    "        V = self.split_heads(self.value_matrix(V))        \n",
    "        attn_output = self.scaled_dot_product_attention(Q, K, V, mask)\n",
    "        return self.mixer(self.combine_heads(attn_output))"
   ]
  },
  {
   "cell_type": "code",
   "execution_count": 5,
   "metadata": {},
   "outputs": [],
   "source": [
    "class FeedForward(torch.nn.Module):\n",
    "    def __init__(self, embed_dim, expansion):\n",
    "        super(FeedForward, self).__init__()\n",
    "        self.fc1 = torch.nn.Linear(embed_dim, embed_dim * expansion)\n",
    "        self.fc2 = torch.nn.Linear(embed_dim * expansion, embed_dim)\n",
    "        self.relu = torch.nn.ReLU()\n",
    "\n",
    "    def forward(self, x):\n",
    "        # expand => non-linearity => shrink\n",
    "        return self.fc2(self.relu(self.fc1(x)))"
   ]
  },
  {
   "cell_type": "code",
   "execution_count": 6,
   "metadata": {},
   "outputs": [],
   "source": [
    "class EncoderLayer(torch.nn.Module):\n",
    "    def __init__(self, embed_dim, num_heads, expansion, dropout):\n",
    "        super(EncoderLayer, self).__init__()\n",
    "        self.self_attn = MultiHeadAttention(embed_dim, num_heads)\n",
    "        self.feed_forward = FeedForward(embed_dim, expansion)\n",
    "        self.norm1 = torch.nn.LayerNorm(embed_dim)\n",
    "        self.norm2 = torch.nn.LayerNorm(embed_dim)\n",
    "        self.dropout = torch.nn.Dropout(dropout)\n",
    "\n",
    "    def forward(self, x, mask):\n",
    "        # (attention => droupout) + residual => norm\n",
    "        x = self.norm1(x + self.dropout(self.self_attn(x, x, x, mask)))\n",
    "        # (MLP => dropout) + residual => norm\n",
    "        return self.norm2(x + self.dropout(self.feed_forward(x)))"
   ]
  },
  {
   "cell_type": "code",
   "execution_count": 7,
   "metadata": {},
   "outputs": [],
   "source": [
    "class DecoderLayer(torch.nn.Module):\n",
    "    def __init__(self, embed_dim, num_heads, expansion, dropout):\n",
    "        super(DecoderLayer, self).__init__()\n",
    "        self.self_attn = MultiHeadAttention(embed_dim, num_heads)\n",
    "        self.cross_attn = MultiHeadAttention(embed_dim, num_heads)\n",
    "        self.feed_forward = FeedForward(embed_dim, expansion)\n",
    "        self.norm1 = torch.nn.LayerNorm(embed_dim)\n",
    "        self.norm2 = torch.nn.LayerNorm(embed_dim)\n",
    "        self.norm3 = torch.nn.LayerNorm(embed_dim)\n",
    "        self.dropout = torch.nn.Dropout(dropout)\n",
    "\n",
    "    def forward(self, x, encoder_output, src_mask, tgt_mask):\n",
    "        # self attention (decoder x decoder)\n",
    "        x = self.norm1(x + self.dropout(self.self_attn(x, x, x, tgt_mask)))\n",
    "        # cross attention (decoder x encoder), note that queries are from decoder, keys and values - from encoder\n",
    "        x = self.norm2(x + self.dropout(self.cross_attn(x, encoder_output, encoder_output, src_mask)))\n",
    "        # MLP + dropout + residual + norm\n",
    "        return self.norm3(x + self.dropout(self.feed_forward(x)))"
   ]
  },
  {
   "cell_type": "code",
   "execution_count": 8,
   "metadata": {},
   "outputs": [],
   "source": [
    "class EncoderDecoder(torch.nn.Module):\n",
    "    def __init__(self, vocab_size, embed_dim, num_heads, num_layers, expansion, max_seq_length, dropout):\n",
    "        super(EncoderDecoder, self).__init__()\n",
    "        # we could split encoder and decoder embeddings\n",
    "        self.embedding = torch.nn.Embedding(vocab_size, embed_dim)\n",
    "        self.positional_encoding = PositionalEncoding(embed_dim, max_seq_length)\n",
    "        self.encoder_layers = torch.nn.ModuleList([EncoderLayer(embed_dim, num_heads, expansion, dropout) for _ in range(num_layers)])\n",
    "        self.decoder_layers = torch.nn.ModuleList([DecoderLayer(embed_dim, num_heads, expansion, dropout) for _ in range(num_layers)])\n",
    "        self.fc = torch.nn.Linear(embed_dim, vocab_size)\n",
    "        self.dropout = torch.nn.Dropout(dropout)\n",
    "\n",
    "    def generate_mask(self, src, tgt):\n",
    "        src_mask = (src != 0).unsqueeze(1).unsqueeze(2)\n",
    "        tgt_mask = (tgt != 0).unsqueeze(1).unsqueeze(3)\n",
    "        seq_length = tgt.size(1)\n",
    "        nopeak_mask = (1 - torch.triu(torch.ones(1, seq_length, seq_length), diagonal=1)).bool()\n",
    "        tgt_mask = tgt_mask & nopeak_mask\n",
    "        return src_mask, tgt_mask\n",
    "\n",
    "    def forward(self, src, tgt):\n",
    "        src_mask, tgt_mask = self.generate_mask(src, tgt)\n",
    "        src_embedded = self.dropout(self.positional_encoding(self.embedding(src)))\n",
    "        tgt_embedded = self.dropout(self.positional_encoding(self.embedding(tgt)))\n",
    "        enc_output = src_embedded\n",
    "        for enc_layer in self.encoder_layers:\n",
    "            enc_output = enc_layer(enc_output, src_mask)\n",
    "        dec_output = tgt_embedded\n",
    "        for dec_layer in self.decoder_layers:\n",
    "            dec_output = dec_layer(dec_output, enc_output, src_mask, tgt_mask)\n",
    "        output = self.fc(dec_output)\n",
    "        return output"
   ]
  },
  {
   "cell_type": "code",
   "execution_count": 9,
   "metadata": {},
   "outputs": [],
   "source": [
    "class Encoder(torch.nn.Module):\n",
    "    def __init__(self, vocab_size, embed_dim, num_heads, num_layers, expansion, max_seq_length, dropout):\n",
    "        super(Encoder, self).__init__()\n",
    "        self.embedding = torch.nn.Embedding(vocab_size, embed_dim)\n",
    "        self.positional_encoding = PositionalEncoding(embed_dim, max_seq_length)\n",
    "        self.layers = torch.nn.ModuleList([EncoderLayer(embed_dim, num_heads, expansion, dropout) for _ in range(num_layers)])\n",
    "        self.fc = torch.nn.Linear(embed_dim, vocab_size)\n",
    "        self.dropout = torch.nn.Dropout(dropout)\n",
    "\n",
    "    def generate_mask(self, src):\n",
    "        mask = (src != 0).unsqueeze(1).unsqueeze(3)\n",
    "        seq_length = src.size(1)\n",
    "        nopeak_mask = (1 - torch.triu(torch.ones(1, seq_length, seq_length), diagonal=1)).bool().to(src.device)\n",
    "        mask = mask & nopeak_mask\n",
    "        return mask\n",
    "\n",
    "    def forward(self, src):\n",
    "        mask = self.generate_mask(src)\n",
    "        embedded = self.dropout(self.positional_encoding(self.embedding(src)))\n",
    "        for layer in self.layers:\n",
    "            embedded = layer(embedded, mask)\n",
    "        return self.fc(embedded)"
   ]
  },
  {
   "cell_type": "code",
   "execution_count": 10,
   "metadata": {},
   "outputs": [
    {
     "name": "stdout",
     "output_type": "stream",
     "text": [
      "5458199\n"
     ]
    }
   ],
   "source": [
    "import requests\n",
    "\n",
    "all_shakespeare = requests.get(\"https://ocw.mit.edu/ans7870/6/6.006/s08/lecturenotes/files/t8.shakespeare.txt\").content.decode()\n",
    "print(len(all_shakespeare))"
   ]
  },
  {
   "cell_type": "code",
   "execution_count": 11,
   "metadata": {},
   "outputs": [
    {
     "name": "stdout",
     "output_type": "stream",
     "text": [
      "['<empty>', '<start>', '<end>', '&', 'e', 'x', '%', \"'\", 'l', '-', 'r', ')', 'Y', '`', '.', 'i', 'W', 'o', '|', '[', 'X', 'j', '\"', 'H', 's', 'J', 'a', 'A', '!', 'y', ';', 'N', '0', 'f', 'u', 'Q', '>', 'L', '9', 'G', 'w', 'T', 'p', '<', 'M', 'b', 'k', '_', '4', 'K', ']', 'm', '?', '}', 'I', 'V', '2', 'U', 'd', 'O', '~', '=', '#', '*', 'v', '3', 'z', '@', 'C', 'S', '1', 'c', 'Z', ',', 'D', 'P', '7', 'F', '5', 'R', 't', 'E', '8', 'n', 'B', 'g', ':', '/', '\\n', '(', 'h', '6', ' ', 'q']\n",
      "94\n",
      "{'<empty>': 0, '<start>': 1, '<end>': 2, '&': 3, 'e': 4, 'x': 5, '%': 6, \"'\": 7, 'l': 8, '-': 9, 'r': 10, ')': 11, 'Y': 12, '`': 13, '.': 14, 'i': 15, 'W': 16, 'o': 17, '|': 18, '[': 19, 'X': 20, 'j': 21, '\"': 22, 'H': 23, 's': 24, 'J': 25, 'a': 26, 'A': 27, '!': 28, 'y': 29, ';': 30, 'N': 31, '0': 32, 'f': 33, 'u': 34, 'Q': 35, '>': 36, 'L': 37, '9': 38, 'G': 39, 'w': 40, 'T': 41, 'p': 42, '<': 43, 'M': 44, 'b': 45, 'k': 46, '_': 47, '4': 48, 'K': 49, ']': 50, 'm': 51, '?': 52, '}': 53, 'I': 54, 'V': 55, '2': 56, 'U': 57, 'd': 58, 'O': 59, '~': 60, '=': 61, '#': 62, '*': 63, 'v': 64, '3': 65, 'z': 66, '@': 67, 'C': 68, 'S': 69, '1': 70, 'c': 71, 'Z': 72, ',': 73, 'D': 74, 'P': 75, '7': 76, 'F': 77, '5': 78, 'R': 79, 't': 80, 'E': 81, '8': 82, 'n': 83, 'B': 84, 'g': 85, ':': 86, '/': 87, '\\n': 88, '(': 89, 'h': 90, '6': 91, ' ': 92, 'q': 93}\n"
     ]
    }
   ],
   "source": [
    "dictionary = [\"<empty>\", \"<start>\", \"<end>\"] + list(set(all_shakespeare))\n",
    "print(dictionary)\n",
    "print(len(dictionary))\n",
    "\n",
    "sym2idx = {s: i for i, s in enumerate(dictionary)}\n",
    "print(sym2idx)"
   ]
  },
  {
   "cell_type": "code",
   "execution_count": 12,
   "metadata": {},
   "outputs": [
    {
     "name": "stdout",
     "output_type": "stream",
     "text": [
      "42643\n",
      "If the tagrag people did not clap him and hiss him\n",
      "    according as he pleased and displeased them, as they use to do\n",
      "    the p\n",
      "127\n"
     ]
    }
   ],
   "source": [
    "import random\n",
    "\n",
    "random.seed(42)\n",
    "\n",
    "#data = all_shakespeare.split(\"\\n\\n\")\n",
    "#data = list(filter(lambda x: x and len(x) < max_seq_len, data))\n",
    "data = [all_shakespeare[i:i+max_seq_len-1] for i in range(0, len(all_shakespeare), max_seq_len)]\n",
    "random.shuffle(data)\n",
    "\n",
    "print(len(data))\n",
    "print(data[77])\n",
    "print(len(data[77]))"
   ]
  },
  {
   "cell_type": "code",
   "execution_count": 13,
   "metadata": {},
   "outputs": [
    {
     "name": "stdout",
     "output_type": "stream",
     "text": [
      " both together heav'd it up,\n",
      "    We'll both together lift our heads to heaven,\n",
      "    And never more abase our sight so low\n",
      "    As\n",
      "\n",
      "thee.\n",
      "  PRINCESS OF FRANCE. Honey, and milk, and sugar; there is three.\n",
      "  BEROWNE. Nay, then, two treys, an if you grow so nice\n"
     ]
    }
   ],
   "source": [
    "train = [data[i] for i in range(len(data)) if i % 10 != 0]\n",
    "test = [data[i] for i in range(len(data)) if i % 10 == 0]\n",
    "\n",
    "print(train[-5])\n",
    "print(\"\")\n",
    "print(test[-5])"
   ]
  },
  {
   "cell_type": "code",
   "execution_count": 14,
   "metadata": {},
   "outputs": [
    {
     "name": "stdout",
     "output_type": "stream",
     "text": [
      "tensor([[[[ True, False, False, False],\n",
      "          [ True,  True, False, False],\n",
      "          [ True,  True,  True, False],\n",
      "          [False, False, False, False]]]], device='cuda:0')\n",
      "6360158\n"
     ]
    }
   ],
   "source": [
    "src = torch.tensor([[1, 2, 3, 0]]).to(device)\n",
    "model = Encoder(len(dictionary), embedding_size, head_count, layer_count, 4, max_seq_len, 0.1).to(device)\n",
    "mask = model.generate_mask(src)\n",
    "print(mask)\n",
    "print(sum(p.numel() for p in model.parameters()))"
   ]
  },
  {
   "cell_type": "code",
   "execution_count": 15,
   "metadata": {},
   "outputs": [
    {
     "name": "stdout",
     "output_type": "stream",
     "text": [
      "CAESAR.of-Ez\n"
     ]
    }
   ],
   "source": [
    "import numpy as np\n",
    "\n",
    "def generate(model, len_limit):\n",
    "    model.eval()\n",
    "    with torch.no_grad():\n",
    "        result = [\"<start>\"] + list(\"CAESAR.\")\n",
    "        while len(result) < len_limit:\n",
    "            x = torch.tensor([[sym2idx[x] for x in result]]).to(device)\n",
    "            y = model(x)\n",
    "            y = y[0][-1].cpu().numpy()\n",
    "            y = np.exp(y)\n",
    "            y /= np.sum(y)\n",
    "            #print(\" \".join(map(lambda t: \"{:.4f}\".format(t), y)) + \"\\n\")\n",
    "            x = dictionary[np.random.choice(y.shape[0], p = y)]\n",
    "            if x in [\"<start>\", \"<end>\", \"<empty>\"]:\n",
    "                break\n",
    "            result.append(x)\n",
    "        return ''.join(result[1:])\n",
    "\n",
    "print(generate(model, max_seq_len))"
   ]
  },
  {
   "cell_type": "code",
   "execution_count": 16,
   "metadata": {},
   "outputs": [
    {
     "name": "stderr",
     "output_type": "stream",
     "text": [
      "100%|██████████| 38378/38378 [01:10<00:00, 547.08it/s]\n",
      "100%|██████████| 4265/4265 [00:02<00:00, 1551.36it/s]\n"
     ]
    },
    {
     "name": "stdout",
     "output_type": "stream",
     "text": [
      "Epoch 0 loss: 3.24760 3.21206\n",
      "CAESAR.ieat b\n",
      "  eDt  ibsra swhdBep ou S a'ee loendiL wtuFLr Xty \n"
     ]
    },
    {
     "name": "stderr",
     "output_type": "stream",
     "text": [
      "100%|██████████| 38378/38378 [01:10<00:00, 546.47it/s]\n",
      "100%|██████████| 4265/4265 [00:02<00:00, 1551.67it/s]\n"
     ]
    },
    {
     "name": "stdout",
     "output_type": "stream",
     "text": [
      "Epoch 1 loss: 2.50873 2.19613\n",
      "CAESAR. I And llow atcin mand; and nve win knowesw totis your he,ee ey a t forat ou.\n",
      "   Lt Ther; nomi\n"
     ]
    },
    {
     "name": "stderr",
     "output_type": "stream",
     "text": [
      "100%|██████████| 38378/38378 [01:10<00:00, 546.37it/s]\n",
      "100%|██████████| 4265/4265 [00:02<00:00, 1551.49it/s]\n"
     ]
    },
    {
     "name": "stdout",
     "output_type": "stream",
     "text": [
      "Epoch 2 loss: 2.13216 1.86206\n",
      "CAESAR. Say, you my blike ear\n",
      "     Oul, he wrie comize a be and the Patifura,\n",
      "    For is liv ougleng evirt.\n",
      "                   \n"
     ]
    },
    {
     "name": "stderr",
     "output_type": "stream",
     "text": [
      "100%|██████████| 38378/38378 [01:10<00:00, 546.61it/s]\n",
      "100%|██████████| 4265/4265 [00:02<00:00, 1550.98it/s]\n"
     ]
    },
    {
     "name": "stdout",
     "output_type": "stream",
     "text": [
      "Epoch 3 loss: 1.98540 1.72500\n",
      "CAESAR. As be don! ath bastt mones her heads her lighte suroucts\n",
      "     But not that froy my bas of my self.\n",
      "   Appeasencer Eng t\n"
     ]
    },
    {
     "name": "stderr",
     "output_type": "stream",
     "text": [
      "100%|██████████| 38378/38378 [01:10<00:00, 546.55it/s]\n",
      "100%|██████████| 4265/4265 [00:02<00:00, 1552.05it/s]\n"
     ]
    },
    {
     "name": "stdout",
     "output_type": "stream",
     "text": [
      "Epoch 4 loss: 1.86172 1.65766\n",
      "CAESAR. Do how ton.\n",
      "  BETROMICT GUENTUES and ANE his pround\n",
      " FIRTH FRAMON. How; I wreany let of ans him\n",
      "    Binde-giOTELLON.  G\n"
     ]
    },
    {
     "name": "stderr",
     "output_type": "stream",
     "text": [
      "100%|██████████| 38378/38378 [01:10<00:00, 546.45it/s]\n",
      "100%|██████████| 4265/4265 [00:02<00:00, 1551.95it/s]\n"
     ]
    },
    {
     "name": "stdout",
     "output_type": "stream",
     "text": [
      "Epoch 5 loss: 1.71199 1.56668\n",
      "CAESAR. You sincks.\n",
      "  KING HENRY. This hath'now\n",
      "  MECBETH PANTINUS and CLOWNGATINA, hold free peittorice abGuestes\n",
      "   Fairs in \n"
     ]
    },
    {
     "name": "stderr",
     "output_type": "stream",
     "text": [
      "100%|██████████| 38378/38378 [01:10<00:00, 546.47it/s]\n",
      "100%|██████████| 4265/4265 [00:02<00:00, 1551.00it/s]\n"
     ]
    },
    {
     "name": "stdout",
     "output_type": "stream",
     "text": [
      "Epoch 6 loss: 1.71849 1.49604\n",
      "CAESAR. And yet forliends and mann- that 'twen thy bots, which countent turn of the for\n",
      "    this Come, Sir Johner. Good Lordon,\n"
     ]
    },
    {
     "name": "stderr",
     "output_type": "stream",
     "text": [
      "100%|██████████| 38378/38378 [01:10<00:00, 546.46it/s]\n",
      "100%|██████████| 4265/4265 [00:02<00:00, 1551.64it/s]\n"
     ]
    },
    {
     "name": "stdout",
     "output_type": "stream",
     "text": [
      "Epoch 7 loss: 1.63625 1.46841\n",
      "CAESAR. What I say, bark, shall I do who to\n",
      "    man all limp as here soul every man of death;\n",
      "    The was handst reme\n"
     ]
    },
    {
     "name": "stderr",
     "output_type": "stream",
     "text": [
      "100%|██████████| 38378/38378 [01:10<00:00, 546.50it/s]\n",
      "100%|██████████| 4265/4265 [00:02<00:00, 1552.02it/s]\n"
     ]
    },
    {
     "name": "stdout",
     "output_type": "stream",
     "text": [
      "Epoch 8 loss: 1.55089 1.42579\n",
      "CAESAR. Sir, I would thou braught, sweet might,\n",
      "   Even the DUKE OF COUNTES\n",
      "\n",
      "  CLOWN. Lo'\n"
     ]
    },
    {
     "name": "stderr",
     "output_type": "stream",
     "text": [
      "100%|██████████| 38378/38378 [01:10<00:00, 546.48it/s]\n",
      "100%|██████████| 4265/4265 [00:02<00:00, 1551.64it/s]\n"
     ]
    },
    {
     "name": "stdout",
     "output_type": "stream",
     "text": [
      "Epoch 9 loss: 1.53541 1.40836\n",
      "CAESAR. For sweets take all the ride, for that worms a should call'ry;\n",
      "    The trainor and heart be expect?\n",
      "    Now with in hea\n"
     ]
    },
    {
     "name": "stderr",
     "output_type": "stream",
     "text": [
      "100%|██████████| 38378/38378 [01:10<00:00, 546.47it/s]\n",
      "100%|██████████| 4265/4265 [00:02<00:00, 1552.49it/s]\n"
     ]
    },
    {
     "name": "stdout",
     "output_type": "stream",
     "text": [
      "Epoch 10 loss: 1.52040 1.39380\n",
      "CAESAR. ACHILLOPITES and SYRACUSE OF FRANCE, 'tis nation word.'\n",
      "  Cal. I this it be mid;\n",
      "    In thou cold rod! I make a tongue \n"
     ]
    },
    {
     "name": "stderr",
     "output_type": "stream",
     "text": [
      "100%|██████████| 38378/38378 [01:10<00:00, 546.50it/s]\n",
      "100%|██████████| 4265/4265 [00:02<00:00, 1551.73it/s]\n"
     ]
    },
    {
     "name": "stdout",
     "output_type": "stream",
     "text": [
      "Epoch 11 loss: 1.55135 1.36630\n",
      "CAESAR. What shall remediates, it that; whose pail,\n",
      "    And the bellock\n"
     ]
    },
    {
     "name": "stderr",
     "output_type": "stream",
     "text": [
      "100%|██████████| 38378/38378 [01:10<00:00, 546.49it/s]\n",
      "100%|██████████| 4265/4265 [00:02<00:00, 1551.35it/s]\n"
     ]
    },
    {
     "name": "stdout",
     "output_type": "stream",
     "text": [
      "Epoch 12 loss: 1.45035 1.35796\n",
      "CAESAR. A tick\n",
      "     And with his night, uncleanful cause attendedy.  \n",
      "  MESSENGER. As words this the same, that's tell my nusti\n"
     ]
    },
    {
     "name": "stderr",
     "output_type": "stream",
     "text": [
      "100%|██████████| 38378/38378 [01:10<00:00, 546.43it/s]\n",
      "100%|██████████| 4265/4265 [00:02<00:00, 1552.15it/s]\n"
     ]
    },
    {
     "name": "stdout",
     "output_type": "stream",
     "text": [
      "Epoch 13 loss: 1.43136 1.34846\n",
      "CAESAR. That I do not ignorant with your want what is beast; -\n",
      "    Alacks thou great without patient,\n",
      "    My peace good and fri\n"
     ]
    },
    {
     "name": "stderr",
     "output_type": "stream",
     "text": [
      "100%|██████████| 38378/38378 [01:10<00:00, 546.45it/s]\n",
      "100%|██████████| 4265/4265 [00:02<00:00, 1551.94it/s]\n"
     ]
    },
    {
     "name": "stdout",
     "output_type": "stream",
     "text": [
      "Epoch 14 loss: 1.40751 1.33233\n",
      "CAESAR. A beloved with him; and she is love twice in his excuse,\n",
      "    Which, all till delight unwh\n"
     ]
    },
    {
     "name": "stderr",
     "output_type": "stream",
     "text": [
      "100%|██████████| 38378/38378 [01:10<00:00, 546.48it/s]\n",
      "100%|██████████| 4265/4265 [00:02<00:00, 1551.86it/s]\n"
     ]
    },
    {
     "name": "stdout",
     "output_type": "stream",
     "text": [
      "Epoch 15 loss: 1.39170 1.33621\n",
      "CAESAR. O, woman, faith, for how you with here a shortify- of a vinite\n",
      "    world, there is thenas arms.  \n",
      "  GRUMIO. Now, draw m\n"
     ]
    },
    {
     "name": "stderr",
     "output_type": "stream",
     "text": [
      "100%|██████████| 38378/38378 [01:10<00:00, 546.51it/s]\n",
      "100%|██████████| 4265/4265 [00:02<00:00, 1551.63it/s]\n"
     ]
    },
    {
     "name": "stdout",
     "output_type": "stream",
     "text": [
      "Epoch 16 loss: 1.37368 1.31703\n",
      "CAESAR. Will you be, Edward!\n",
      "    The murning is goat to a chase.\n",
      "    Now pettition, batter, but, which is i\n"
     ]
    },
    {
     "name": "stderr",
     "output_type": "stream",
     "text": [
      "100%|██████████| 38378/38378 [01:10<00:00, 546.44it/s]\n",
      "100%|██████████| 4265/4265 [00:02<00:00, 1552.64it/s]\n"
     ]
    },
    {
     "name": "stdout",
     "output_type": "stream",
     "text": [
      "Epoch 17 loss: 1.35944 1.30926\n",
      "CAESAR. is like a little of Harry.\n",
      "DROMIO OF EPHESUS. Indeed, desire your kingsman.\n",
      "LUCIANA. Let us.\n",
      "ANTelus \n"
     ]
    },
    {
     "name": "stderr",
     "output_type": "stream",
     "text": [
      "100%|██████████| 38378/38378 [01:10<00:00, 546.46it/s]\n",
      "100%|██████████| 4265/4265 [00:02<00:00, 1551.65it/s]\n"
     ]
    },
    {
     "name": "stdout",
     "output_type": "stream",
     "text": [
      "Epoch 18 loss: 1.34014 1.30321\n",
      "CAESAR. Queen of Claudio Cressid, the compossible  \n",
      "    Having troilus unto the that till I noble-\n",
      "  CAPTAIN. Until this side o\n"
     ]
    },
    {
     "name": "stderr",
     "output_type": "stream",
     "text": [
      "100%|██████████| 38378/38378 [01:10<00:00, 546.46it/s]\n",
      "100%|██████████| 4265/4265 [00:02<00:00, 1551.92it/s]\n"
     ]
    },
    {
     "name": "stdout",
     "output_type": "stream",
     "text": [
      "Epoch 19 loss: 1.31722 1.30324\n",
      "CAESAR. Come kits in this ground-\n",
      "  SHYLOCK. Unless his master, Master Timon's lordship; for this\n",
      "    clocks, I am this supplih\n"
     ]
    },
    {
     "name": "stderr",
     "output_type": "stream",
     "text": [
      "100%|██████████| 38378/38378 [01:10<00:00, 546.48it/s]\n",
      "100%|██████████| 4265/4265 [00:02<00:00, 1552.43it/s]\n"
     ]
    },
    {
     "name": "stdout",
     "output_type": "stream",
     "text": [
      "Epoch 20 loss: 1.30886 1.27877\n",
      "CAESAR. How now, noble and my lord?\n",
      "    This is nothing with my honour to me a fear of shall,\n",
      "    By look himlife. What ask of \n"
     ]
    },
    {
     "name": "stderr",
     "output_type": "stream",
     "text": [
      "100%|██████████| 38378/38378 [01:10<00:00, 546.45it/s]\n",
      "100%|██████████| 4265/4265 [00:02<00:00, 1552.12it/s]\n"
     ]
    },
    {
     "name": "stdout",
     "output_type": "stream",
     "text": [
      "Epoch 21 loss: 1.29019 1.28258\n",
      "CAESAR. It was gone and other fear; but alas, tell me they two\n",
      "      prologues, wherein he are a bottle evil.\n",
      "  SIR TOBY. That \n"
     ]
    },
    {
     "name": "stderr",
     "output_type": "stream",
     "text": [
      "100%|██████████| 38378/38378 [01:10<00:00, 546.51it/s]\n",
      "100%|██████████| 4265/4265 [00:02<00:00, 1552.14it/s]\n"
     ]
    },
    {
     "name": "stdout",
     "output_type": "stream",
     "text": [
      "Epoch 22 loss: 1.29883 1.27933\n",
      "CAESAR. Nay, sweet noble here, good before our noble name\n",
      "    Have weep fortune's repear'd so of tender.\n",
      "  BANQUO. We then is g\n"
     ]
    },
    {
     "name": "stderr",
     "output_type": "stream",
     "text": [
      "100%|██████████| 38378/38378 [01:10<00:00, 546.43it/s]\n",
      "100%|██████████| 4265/4265 [00:02<00:00, 1551.06it/s]\n"
     ]
    },
    {
     "name": "stdout",
     "output_type": "stream",
     "text": [
      "Epoch 23 loss: 1.28147 1.25921\n",
      "CAESAR. [Aside] For thy letters be off.\n",
      "    Get women. Stay but upon our offices. Heaven the motion;\n",
      "    your pittiful thieves \n"
     ]
    },
    {
     "name": "stderr",
     "output_type": "stream",
     "text": [
      "100%|██████████| 38378/38378 [01:10<00:00, 546.48it/s]\n",
      "100%|██████████| 4265/4265 [00:02<00:00, 1552.37it/s]\n"
     ]
    },
    {
     "name": "stdout",
     "output_type": "stream",
     "text": [
      "Epoch 24 loss: 1.27085 1.26441\n",
      "CAESAR. You are thrust, my sweet bodies, for well! You\n",
      "    seem I will live I hold from hell; that better was him other\n",
      "    Tha\n"
     ]
    },
    {
     "name": "stderr",
     "output_type": "stream",
     "text": [
      "100%|██████████| 38378/38378 [01:10<00:00, 546.45it/s]\n",
      "100%|██████████| 4265/4265 [00:02<00:00, 1551.40it/s]\n"
     ]
    },
    {
     "name": "stdout",
     "output_type": "stream",
     "text": [
      "Epoch 25 loss: 1.26116 1.25451\n",
      "CAESAR. Mich tell the venturous smile, conceaming; say then\n",
      "    Have I to our countain them and a dukilly with cried.  \n",
      "  PROSP\n"
     ]
    },
    {
     "name": "stderr",
     "output_type": "stream",
     "text": [
      "100%|██████████| 38378/38378 [01:10<00:00, 546.49it/s]\n",
      "100%|██████████| 4265/4265 [00:02<00:00, 1551.54it/s]\n"
     ]
    },
    {
     "name": "stdout",
     "output_type": "stream",
     "text": [
      "Epoch 26 loss: 1.25262 1.25156\n",
      "CAESAR. But how now has the princely in my men!\n",
      "    By the hid not yet too hell destrain for this blood,\n",
      "    So Lucilius pleas'\n"
     ]
    },
    {
     "name": "stderr",
     "output_type": "stream",
     "text": [
      "100%|██████████| 38378/38378 [01:10<00:00, 546.49it/s]\n",
      "100%|██████████| 4265/4265 [00:02<00:00, 1552.19it/s]\n"
     ]
    },
    {
     "name": "stdout",
     "output_type": "stream",
     "text": [
      "Epoch 27 loss: 1.24431 1.25059\n",
      "CAESAR. Sirrah-horroud est much these was substice  \n",
      "    the rich nothing of opposite,  \n",
      "    Your shorts are searched.\n",
      "    We s\n"
     ]
    },
    {
     "name": "stderr",
     "output_type": "stream",
     "text": [
      "100%|██████████| 38378/38378 [01:10<00:00, 546.44it/s]\n",
      "100%|██████████| 4265/4265 [00:02<00:00, 1551.63it/s]\n"
     ]
    },
    {
     "name": "stdout",
     "output_type": "stream",
     "text": [
      "Epoch 28 loss: 1.23950 1.24001\n",
      "CAESAR. And with thee, I'll ried to you.\n",
      "  TITUS. To savage, saint so Payacus! Wilt thou see thou toll'st?\n",
      "  ARVANTS. Confesser\n"
     ]
    },
    {
     "name": "stderr",
     "output_type": "stream",
     "text": [
      "100%|██████████| 38378/38378 [01:10<00:00, 546.25it/s]\n",
      "100%|██████████| 4265/4265 [00:02<00:00, 1551.54it/s]\n"
     ]
    },
    {
     "name": "stdout",
     "output_type": "stream",
     "text": [
      "Epoch 29 loss: 1.23547 1.24464\n",
      "CAESAR. Sir Hastings.\n",
      "  HERMIONE.  [Aside]  His hath no doubtful French father!\n",
      "     De importunation, for a pallel assur'd as \n"
     ]
    },
    {
     "name": "stderr",
     "output_type": "stream",
     "text": [
      "100%|██████████| 38378/38378 [01:10<00:00, 546.27it/s]\n",
      "100%|██████████| 4265/4265 [00:02<00:00, 1551.45it/s]\n"
     ]
    },
    {
     "name": "stdout",
     "output_type": "stream",
     "text": [
      "Epoch 30 loss: 1.24555 1.24377\n",
      "CAESAR. Come, good madam;  \n",
      "    The news?\n",
      "  THERSITES.  [Aside]  Whom shall I not think their headh of all crown.\n",
      "     Some on \n"
     ]
    },
    {
     "name": "stderr",
     "output_type": "stream",
     "text": [
      "100%|██████████| 38378/38378 [01:10<00:00, 545.84it/s]\n",
      "100%|██████████| 4265/4265 [00:02<00:00, 1548.54it/s]\n"
     ]
    },
    {
     "name": "stdout",
     "output_type": "stream",
     "text": [
      "Epoch 31 loss: 1.22906 1.24973\n",
      "CAESAR. Why down that's my brass.\n",
      "  DUCHESS. Now she there curses; nothing, sir; there's a humble will design.\n",
      "    And makes so\n"
     ]
    },
    {
     "name": "stderr",
     "output_type": "stream",
     "text": [
      "100%|██████████| 38378/38378 [01:10<00:00, 545.88it/s]\n",
      "100%|██████████| 4265/4265 [00:02<00:00, 1547.80it/s]\n"
     ]
    },
    {
     "name": "stdout",
     "output_type": "stream",
     "text": [
      "Epoch 32 loss: 1.22434 1.23530\n",
      "CAESAR. Give me my love are my light and prophecy,\n",
      "    To speak him. She that thou follow the high spirits,\n",
      "    Death dry me on\n"
     ]
    },
    {
     "name": "stderr",
     "output_type": "stream",
     "text": [
      "100%|██████████| 38378/38378 [01:10<00:00, 545.84it/s]\n",
      "100%|██████████| 4265/4265 [00:02<00:00, 1548.41it/s]\n"
     ]
    },
    {
     "name": "stdout",
     "output_type": "stream",
     "text": [
      "Epoch 33 loss: 1.21127 1.23249\n",
      "CAESAR. I'll fight her but\n",
      "    He slew the gods stone: for every misfer his base,\n",
      "    And all the Greece is beholding dignity\n",
      " \n"
     ]
    },
    {
     "name": "stderr",
     "output_type": "stream",
     "text": [
      "100%|██████████| 38378/38378 [01:10<00:00, 545.85it/s]\n",
      "100%|██████████| 4265/4265 [00:02<00:00, 1548.59it/s]\n"
     ]
    },
    {
     "name": "stdout",
     "output_type": "stream",
     "text": [
      "Epoch 34 loss: 1.20460 1.23824\n",
      "CAESAR. But you both resolved my hearts!\n",
      "\n",
      "                              Enter three-\n",
      "\n",
      "  TOUCHSTONE. Soft!\n",
      "  TITUS. Greates Sign\n"
     ]
    },
    {
     "name": "stderr",
     "output_type": "stream",
     "text": [
      "100%|██████████| 38378/38378 [01:10<00:00, 545.88it/s]\n",
      "100%|██████████| 4265/4265 [00:02<00:00, 1548.23it/s]\n"
     ]
    },
    {
     "name": "stdout",
     "output_type": "stream",
     "text": [
      "Epoch 35 loss: 1.20601 1.22771\n",
      "CAESAR. Ay, believe anything long shall sung\n",
      "    mine. She sats down, he is an edified for his book\n",
      "    man.\n",
      "  BIONDELLO.      \n"
     ]
    },
    {
     "name": "stderr",
     "output_type": "stream",
     "text": [
      "100%|██████████| 38378/38378 [01:10<00:00, 545.84it/s]\n",
      "100%|██████████| 4265/4265 [00:02<00:00, 1548.24it/s]\n"
     ]
    },
    {
     "name": "stdout",
     "output_type": "stream",
     "text": [
      "Epoch 36 loss: 1.19935 1.22034\n",
      "CAESAR. Not I.\n",
      "  CLEOPATRA.  He were true, alas, why post the hour of Hector.\n",
      "  CLEOPATRA. Say you down,\n",
      "    If I, we'll as a v\n"
     ]
    },
    {
     "name": "stderr",
     "output_type": "stream",
     "text": [
      "100%|██████████| 38378/38378 [01:10<00:00, 546.30it/s]\n",
      "100%|██████████| 4265/4265 [00:02<00:00, 1552.56it/s]\n"
     ]
    },
    {
     "name": "stdout",
     "output_type": "stream",
     "text": [
      "Epoch 37 loss: 1.19511 1.22931\n",
      "CAESAR. Farewell, vouch gross-prosumed show me?\n",
      "  DUKE. [He tell him he still down his grossly to be commonwealth.\n",
      "  OLIVER. I'\n"
     ]
    },
    {
     "name": "stderr",
     "output_type": "stream",
     "text": [
      "100%|██████████| 38378/38378 [01:10<00:00, 546.33it/s]\n",
      "100%|██████████| 4265/4265 [00:02<00:00, 1551.26it/s]\n"
     ]
    },
    {
     "name": "stdout",
     "output_type": "stream",
     "text": [
      "Epoch 38 loss: 1.19449 1.21761\n",
      "CAESAR. Apale children brings, too much are at\n",
      "    rheum from her father's time, too blush, in looks no only stone,\n",
      "    for the\n"
     ]
    },
    {
     "name": "stderr",
     "output_type": "stream",
     "text": [
      "100%|██████████| 38378/38378 [01:10<00:00, 546.29it/s]\n",
      "100%|██████████| 4265/4265 [00:02<00:00, 1551.64it/s]\n"
     ]
    },
    {
     "name": "stdout",
     "output_type": "stream",
     "text": [
      "Epoch 39 loss: 1.19448 1.20410\n",
      "CAESAR. And that will nothing build to distribute sun;\n",
      "    For O that foreveroous Diomed,\n",
      "    And be speril'd.  \n",
      "  SECOND SENAT\n"
     ]
    },
    {
     "name": "stderr",
     "output_type": "stream",
     "text": [
      "100%|██████████| 38378/38378 [01:10<00:00, 546.25it/s]\n",
      "100%|██████████| 4265/4265 [00:02<00:00, 1551.84it/s]\n"
     ]
    },
    {
     "name": "stdout",
     "output_type": "stream",
     "text": [
      "Epoch 40 loss: 1.18717 1.21445\n",
      "CAESAR. And! what royal space of continuine big-\n",
      "    Even too high that no both high for innocent purpose\n",
      "    His good return s\n"
     ]
    },
    {
     "name": "stderr",
     "output_type": "stream",
     "text": [
      "100%|██████████| 38378/38378 [01:10<00:00, 546.25it/s]\n",
      "100%|██████████| 4265/4265 [00:02<00:00, 1552.29it/s]\n"
     ]
    },
    {
     "name": "stdout",
     "output_type": "stream",
     "text": [
      "Epoch 41 loss: 1.18587 1.19768\n",
      "CAESAR. I'll see the Prink, and shall be already that the same this world\n",
      "    policy to strong.\n",
      "ANTIPHOLUS OF EPHESUS. Assistan\n"
     ]
    },
    {
     "name": "stderr",
     "output_type": "stream",
     "text": [
      "100%|██████████| 38378/38378 [01:10<00:00, 546.49it/s]\n",
      "100%|██████████| 4265/4265 [00:02<00:00, 1551.90it/s]\n"
     ]
    },
    {
     "name": "stdout",
     "output_type": "stream",
     "text": [
      "Epoch 42 loss: 1.18164 1.21964\n",
      "CAESAR. I am believe to th' finely that folly o'ertold.\n",
      "  CLEOPATRA. O, they'll make again? You know at my achieve\n",
      "    answer t\n"
     ]
    },
    {
     "name": "stderr",
     "output_type": "stream",
     "text": [
      "100%|██████████| 38378/38378 [01:10<00:00, 546.46it/s]\n",
      "100%|██████████| 4265/4265 [00:02<00:00, 1552.68it/s]\n"
     ]
    },
    {
     "name": "stdout",
     "output_type": "stream",
     "text": [
      "Epoch 43 loss: 1.17918 1.20869\n",
      "CAESAR. I am begs yours, and mude\n",
      "    To see the end of your companion clesteress.\n",
      "    If thou dost knock, I must be as it hope\n"
     ]
    },
    {
     "name": "stderr",
     "output_type": "stream",
     "text": [
      "100%|██████████| 38378/38378 [01:10<00:00, 546.52it/s]\n",
      "100%|██████████| 4265/4265 [00:02<00:00, 1551.76it/s]\n"
     ]
    },
    {
     "name": "stdout",
     "output_type": "stream",
     "text": [
      "Epoch 44 loss: 1.17117 1.19913\n",
      "CAESAR. By all his father's eyes; but we shall hear you come.\n",
      "    for this thinis the news?\n",
      "  SECOND MERCHANT. You die, cousin,\n"
     ]
    },
    {
     "name": "stderr",
     "output_type": "stream",
     "text": [
      "100%|██████████| 38378/38378 [01:10<00:00, 546.52it/s]\n",
      "100%|██████████| 4265/4265 [00:02<00:00, 1552.16it/s]\n"
     ]
    },
    {
     "name": "stdout",
     "output_type": "stream",
     "text": [
      "Epoch 45 loss: 1.16937 1.21201\n",
      "CAESAR. I believing to you, sir; my father lords; heavenly put on\n",
      "    it, my father of my cheek will give up him not.\n",
      "  IACHIMO\n"
     ]
    },
    {
     "name": "stderr",
     "output_type": "stream",
     "text": [
      "100%|██████████| 38378/38378 [01:10<00:00, 546.52it/s]\n",
      "100%|██████████| 4265/4265 [00:02<00:00, 1552.53it/s]\n"
     ]
    },
    {
     "name": "stdout",
     "output_type": "stream",
     "text": [
      "Epoch 46 loss: 1.16877 1.21292\n",
      "CAESAR. There's no longer word.\n",
      "    Were you but where you hate me figure?\n",
      "    He? Mince to repeat the line!                   \n"
     ]
    },
    {
     "name": "stderr",
     "output_type": "stream",
     "text": [
      "100%|██████████| 38378/38378 [01:10<00:00, 546.46it/s]\n",
      "100%|██████████| 4265/4265 [00:02<00:00, 1551.83it/s]\n"
     ]
    },
    {
     "name": "stdout",
     "output_type": "stream",
     "text": [
      "Epoch 47 loss: 1.16699 1.19618\n",
      "CAESAR. And so himself\n",
      "    And clerk and many form; and, if you shut a gentlewoman name.\n",
      "  PORTIA. Thou'ert carried to river wi\n"
     ]
    },
    {
     "name": "stderr",
     "output_type": "stream",
     "text": [
      "100%|██████████| 38378/38378 [01:10<00:00, 546.38it/s]\n",
      "100%|██████████| 4265/4265 [00:02<00:00, 1551.71it/s]\n"
     ]
    },
    {
     "name": "stdout",
     "output_type": "stream",
     "text": [
      "Epoch 48 loss: 1.16130 1.22473\n",
      "CAESAR. Loon, my lord,\n",
      "    Hath want brings the wild with corees growing!\n",
      "    O impression with lane child, and the menes,\n",
      "    \n"
     ]
    },
    {
     "name": "stderr",
     "output_type": "stream",
     "text": [
      "100%|██████████| 38378/38378 [01:10<00:00, 546.37it/s]\n",
      "100%|██████████| 4265/4265 [00:02<00:00, 1551.54it/s]\n"
     ]
    },
    {
     "name": "stdout",
     "output_type": "stream",
     "text": [
      "Epoch 49 loss: 1.16906 1.19427\n",
      "CAESAR. You have had laugh'd to Friaridle, Grumio,\n",
      "    And he thou takest heed on detracted doth right\n",
      "    As once, could have \n"
     ]
    },
    {
     "name": "stderr",
     "output_type": "stream",
     "text": [
      "100%|██████████| 38378/38378 [01:10<00:00, 546.32it/s]\n",
      "100%|██████████| 4265/4265 [00:02<00:00, 1552.36it/s]\n"
     ]
    },
    {
     "name": "stdout",
     "output_type": "stream",
     "text": [
      "Epoch 50 loss: 1.15546 1.21480\n",
      "CAESAR. Yet\n",
      "     Doesdemona, their pleasants on their guards;\n",
      "     Spirits and the master of thy knee, had no harm\n",
      "     For any\n"
     ]
    },
    {
     "name": "stderr",
     "output_type": "stream",
     "text": [
      "100%|██████████| 38378/38378 [01:10<00:00, 546.34it/s]\n",
      "100%|██████████| 4265/4265 [00:02<00:00, 1552.32it/s]\n"
     ]
    },
    {
     "name": "stdout",
     "output_type": "stream",
     "text": [
      "Epoch 51 loss: 1.15691 1.21107\n",
      "CAESAR. O, that made you me!\n",
      "  CASSIO. Of the world, sir; in continue I'll be not another son.\n",
      "  IACHIMO. Nay.\n",
      "  MASTER. Peace,\n"
     ]
    },
    {
     "name": "stderr",
     "output_type": "stream",
     "text": [
      "100%|██████████| 38378/38378 [01:10<00:00, 546.21it/s]\n",
      "100%|██████████| 4265/4265 [00:02<00:00, 1550.01it/s]\n"
     ]
    },
    {
     "name": "stdout",
     "output_type": "stream",
     "text": [
      "Epoch 52 loss: 1.15336 1.20117\n",
      "CAESAR. Dress me thy prison,\n",
      "    So receive I learn:\n",
      "    Go take heedful worthy to thy wisdom.\n",
      "  PUCK. The gates here is slande\n"
     ]
    },
    {
     "name": "stderr",
     "output_type": "stream",
     "text": [
      "100%|██████████| 38378/38378 [01:10<00:00, 546.14it/s]\n",
      "100%|██████████| 4265/4265 [00:02<00:00, 1550.62it/s]\n"
     ]
    },
    {
     "name": "stdout",
     "output_type": "stream",
     "text": [
      "Epoch 53 loss: 1.14807 1.20147\n",
      "CAESAR. Sir John Stanley, my lord.\n",
      "  ANTONY. What says there?\n",
      "  SECOND CITIZEN. Your mind is one?\n",
      "  CAESAR. What is honour woul\n"
     ]
    },
    {
     "name": "stderr",
     "output_type": "stream",
     "text": [
      "100%|██████████| 38378/38378 [01:10<00:00, 546.16it/s]\n",
      "100%|██████████| 4265/4265 [00:02<00:00, 1551.76it/s]\n"
     ]
    },
    {
     "name": "stdout",
     "output_type": "stream",
     "text": [
      "Epoch 54 loss: 1.14460 1.21043\n",
      "CAESAR. I find me, there doth she knee that I bring him me;\n",
      "    it is dead aughter when am I, and say 't occasion between me.'\n"
     ]
    },
    {
     "name": "stderr",
     "output_type": "stream",
     "text": [
      "100%|██████████| 38378/38378 [01:10<00:00, 546.21it/s]\n",
      "100%|██████████| 4265/4265 [00:02<00:00, 1551.29it/s]\n"
     ]
    },
    {
     "name": "stdout",
     "output_type": "stream",
     "text": [
      "Epoch 55 loss: 1.14791 1.18796\n",
      "CAESAR. And why should I relent, what she is subject?\n",
      "  AGUECHEEK. Ay, and one side?\n",
      "  BELARIUS. Good pain and low, my lord.\n",
      "  \n"
     ]
    },
    {
     "name": "stderr",
     "output_type": "stream",
     "text": [
      "100%|██████████| 38378/38378 [01:10<00:00, 546.19it/s]\n",
      "100%|██████████| 4265/4265 [00:02<00:00, 1551.66it/s]\n"
     ]
    },
    {
     "name": "stdout",
     "output_type": "stream",
     "text": [
      "Epoch 56 loss: 1.14429 1.19569\n",
      "CAESAR. The noble orch! Look of the gifts have by low pieceful\n",
      "    mustarve fruit on whose necessity were at Shallow.  \n",
      "  OCTAV\n"
     ]
    },
    {
     "name": "stderr",
     "output_type": "stream",
     "text": [
      "100%|██████████| 38378/38378 [01:10<00:00, 546.07it/s]\n",
      "100%|██████████| 4265/4265 [00:02<00:00, 1551.23it/s]\n"
     ]
    },
    {
     "name": "stdout",
     "output_type": "stream",
     "text": [
      "Epoch 57 loss: 1.13855 1.19587\n",
      "CAESAR. O, Leonato.\n",
      "  PORTIA. Ladies to die with your ladyships!\n",
      "  FALSTAFF. With all his places of company!\n",
      "    By his fellows\n"
     ]
    },
    {
     "name": "stderr",
     "output_type": "stream",
     "text": [
      "100%|██████████| 38378/38378 [01:10<00:00, 546.19it/s]\n",
      "100%|██████████| 4265/4265 [00:02<00:00, 1550.90it/s]\n"
     ]
    },
    {
     "name": "stdout",
     "output_type": "stream",
     "text": [
      "Epoch 58 loss: 1.13690 1.19527\n",
      "CAESAR.  [Aside to CYMBELINE] Yes,\n",
      "    As mask when I will, it will be the world\n",
      "     Excellent fathers;\n",
      "     Or else smell'd t\n"
     ]
    },
    {
     "name": "stderr",
     "output_type": "stream",
     "text": [
      "100%|██████████| 38378/38378 [01:10<00:00, 546.20it/s]\n",
      "100%|██████████| 4265/4265 [00:02<00:00, 1552.12it/s]\n"
     ]
    },
    {
     "name": "stdout",
     "output_type": "stream",
     "text": [
      "Epoch 59 loss: 1.13675 1.19590\n",
      "CAESAR. I must do fear you with your father\n",
      "    And bid your love friends to your business in seeking on me.\n",
      "  PAROLLES. All ri\n"
     ]
    },
    {
     "name": "stderr",
     "output_type": "stream",
     "text": [
      "100%|██████████| 38378/38378 [01:10<00:00, 546.18it/s]\n",
      "100%|██████████| 4265/4265 [00:02<00:00, 1551.78it/s]\n"
     ]
    },
    {
     "name": "stdout",
     "output_type": "stream",
     "text": [
      "Epoch 60 loss: 1.13347 1.19961\n",
      "CAESAR. Good King! what do you? What is he?\n",
      "  ARVIRAGUS. Ay; I'll be sentinal.  \n",
      "  HASTINGS. Ay, alas, this are talk'd of amine\n"
     ]
    },
    {
     "name": "stderr",
     "output_type": "stream",
     "text": [
      "100%|██████████| 38378/38378 [01:10<00:00, 546.18it/s]\n",
      "100%|██████████| 4265/4265 [00:02<00:00, 1551.66it/s]\n"
     ]
    },
    {
     "name": "stdout",
     "output_type": "stream",
     "text": [
      "Epoch 61 loss: 1.13330 1.20959\n",
      "CAESAR. This is shrine: 'I will to perfect it. It is true-\n",
      "  PAULINA. You see me, you are weaker and not abled and not slept.\n",
      " \n"
     ]
    },
    {
     "name": "stderr",
     "output_type": "stream",
     "text": [
      "100%|██████████| 38378/38378 [01:10<00:00, 546.14it/s]\n",
      "100%|██████████| 4265/4265 [00:02<00:00, 1551.91it/s]\n"
     ]
    },
    {
     "name": "stdout",
     "output_type": "stream",
     "text": [
      "Epoch 62 loss: 1.13524 1.20055\n",
      "CAESAR. It was like a wanton leave her; an 'twould ignorance. Thou\n",
      "    have made distrusted a few.\n",
      "  ACHILLES. Though I have bl\n"
     ]
    },
    {
     "name": "stderr",
     "output_type": "stream",
     "text": [
      "100%|██████████| 38378/38378 [01:10<00:00, 546.16it/s]\n",
      "100%|██████████| 4265/4265 [00:02<00:00, 1551.41it/s]\n"
     ]
    },
    {
     "name": "stdout",
     "output_type": "stream",
     "text": [
      "Epoch 63 loss: 1.13185 1.19991\n",
      "CAESAR. Pray you break it, reconciles; I must you discipline.\n",
      "    Thou saw'st no company, Cassio!\n",
      "    Thy tendants that man sho\n"
     ]
    },
    {
     "name": "stderr",
     "output_type": "stream",
     "text": [
      "100%|██████████| 38378/38378 [01:10<00:00, 546.19it/s]\n",
      "100%|██████████| 4265/4265 [00:02<00:00, 1551.69it/s]\n"
     ]
    },
    {
     "name": "stdout",
     "output_type": "stream",
     "text": [
      "Epoch 64 loss: 1.12828 1.18808\n",
      "CAESAR. How does he heck? Owen these warbers hearts!\n",
      "  CAESAR. The field of me-\n",
      "  CORIOLANUS. I see them with them. To-morrow w\n"
     ]
    },
    {
     "name": "stderr",
     "output_type": "stream",
     "text": [
      "100%|██████████| 38378/38378 [01:10<00:00, 546.27it/s]\n",
      "100%|██████████| 4265/4265 [00:02<00:00, 1552.28it/s]\n"
     ]
    },
    {
     "name": "stdout",
     "output_type": "stream",
     "text": [
      "Epoch 65 loss: 1.12729 1.20153\n",
      "CAESAR. I am as pleas'd, let me before Master Slender's\n",
      "    soul.\n",
      "  SLENDER. If you be known that will be so, good night in the\n"
     ]
    },
    {
     "name": "stderr",
     "output_type": "stream",
     "text": [
      "100%|██████████| 38378/38378 [01:10<00:00, 546.27it/s]\n",
      "100%|██████████| 4265/4265 [00:02<00:00, 1551.90it/s]\n"
     ]
    },
    {
     "name": "stdout",
     "output_type": "stream",
     "text": [
      "Epoch 66 loss: 1.12442 1.19551\n",
      "CAESAR. You'll lengthen her win.\n",
      "  ANTONY. She is nothing should think the town,\n",
      "    That short and her malady tell; and-\n",
      "    T\n"
     ]
    },
    {
     "name": "stderr",
     "output_type": "stream",
     "text": [
      "100%|██████████| 38378/38378 [01:10<00:00, 546.32it/s]\n",
      "100%|██████████| 4265/4265 [00:02<00:00, 1552.02it/s]\n"
     ]
    },
    {
     "name": "stdout",
     "output_type": "stream",
     "text": [
      "Epoch 67 loss: 1.12328 1.19164\n",
      "CAESAR. Where is he luck again?\n",
      "  CALIBAN. Ay, but the state of mettle is more age.\n",
      "    'Tis he in his eyes I sitting. I fear, \n"
     ]
    },
    {
     "name": "stderr",
     "output_type": "stream",
     "text": [
      "100%|██████████| 38378/38378 [01:10<00:00, 546.25it/s]\n",
      "100%|██████████| 4265/4265 [00:02<00:00, 1551.36it/s]\n"
     ]
    },
    {
     "name": "stdout",
     "output_type": "stream",
     "text": [
      "Epoch 68 loss: 1.12256 1.19310\n",
      "CAESAR. Some sits call the King's. What, Friar [Laurence?]  What, does\n",
      "    this people consul?\n",
      "  CLOWN. What may you be work?\n",
      " \n"
     ]
    },
    {
     "name": "stderr",
     "output_type": "stream",
     "text": [
      "100%|██████████| 38378/38378 [01:10<00:00, 546.21it/s]\n",
      "100%|██████████| 4265/4265 [00:02<00:00, 1551.66it/s]\n"
     ]
    },
    {
     "name": "stdout",
     "output_type": "stream",
     "text": [
      "Epoch 69 loss: 1.11758 1.18549\n",
      "CAESAR. Is it now?\n",
      "  JEWELLER. Not in our blood, a rebellion felt.\n",
      "  TROILUS. Thou art wonderful sure Micians.\n",
      "  NESTOR. Why, t\n"
     ]
    },
    {
     "name": "stderr",
     "output_type": "stream",
     "text": [
      "100%|██████████| 38378/38378 [01:10<00:00, 546.27it/s]\n",
      "100%|██████████| 4265/4265 [00:02<00:00, 1551.80it/s]\n"
     ]
    },
    {
     "name": "stdout",
     "output_type": "stream",
     "text": [
      "Epoch 70 loss: 1.11817 1.19396\n",
      "CAESAR. I will cut you under my Ross.\n",
      "  ROSALINE. On me, I'll bear him shone to crist them again;\n",
      "    But all about you are, I \n"
     ]
    },
    {
     "name": "stderr",
     "output_type": "stream",
     "text": [
      "100%|██████████| 38378/38378 [01:10<00:00, 546.26it/s]\n",
      "100%|██████████| 4265/4265 [00:02<00:00, 1552.13it/s]\n"
     ]
    },
    {
     "name": "stdout",
     "output_type": "stream",
     "text": [
      "Epoch 71 loss: 1.12142 1.17894\n",
      "CAESAR. Within two peace.\n",
      "\n",
      "                   Enter with VAUX\n",
      "\n",
      "  DUKE. Here comes a free and mind.\n",
      "  LUCIO. You, is she?  \n",
      "  FI\n"
     ]
    },
    {
     "name": "stderr",
     "output_type": "stream",
     "text": [
      "100%|██████████| 38378/38378 [01:10<00:00, 546.32it/s]\n",
      "100%|██████████| 4265/4265 [00:02<00:00, 1551.14it/s]\n"
     ]
    },
    {
     "name": "stdout",
     "output_type": "stream",
     "text": [
      "Epoch 72 loss: 1.11743 1.18949\n",
      "CAESAR. I desire I do.\n",
      "  ANTONIO. This is the poor stirrip; till age to fend,\n",
      "    Go, prevail it too. This one standeth here\n",
      "  \n"
     ]
    },
    {
     "name": "stderr",
     "output_type": "stream",
     "text": [
      "100%|██████████| 38378/38378 [01:10<00:00, 546.23it/s]\n",
      "100%|██████████| 4265/4265 [00:02<00:00, 1551.17it/s]\n"
     ]
    },
    {
     "name": "stdout",
     "output_type": "stream",
     "text": [
      "Epoch 73 loss: 1.11302 1.19799\n",
      "CAESAR. Ay, I care not, with the momenity!\n",
      "  ALL. O, how exceeding were you a thousand dismiss\n",
      "    To this very yea. Farewell, \n"
     ]
    },
    {
     "name": "stderr",
     "output_type": "stream",
     "text": [
      "100%|██████████| 38378/38378 [01:10<00:00, 546.25it/s]\n",
      "100%|██████████| 4265/4265 [00:02<00:00, 1551.75it/s]\n"
     ]
    },
    {
     "name": "stdout",
     "output_type": "stream",
     "text": [
      "Epoch 74 loss: 1.11128 1.21386\n",
      "CAESAR. Then which Caesar do I run awhile.\n",
      "  ANTONY. Mock myself is an other tomb;\n",
      "    My phrase soul shall be gone unto a sigh\n"
     ]
    },
    {
     "name": "stderr",
     "output_type": "stream",
     "text": [
      "100%|██████████| 38378/38378 [01:10<00:00, 546.33it/s]\n",
      "100%|██████████| 4265/4265 [00:02<00:00, 1551.88it/s]\n"
     ]
    },
    {
     "name": "stdout",
     "output_type": "stream",
     "text": [
      "Epoch 75 loss: 1.11513 1.18581\n",
      "CAESAR. Why do you find our power?  \n",
      "  CASSIO. She still, my lord, do you pish.\n",
      "  BRUTUS. Nay, I'll none of her?\n",
      "  CASSIUS. Do \n"
     ]
    },
    {
     "name": "stderr",
     "output_type": "stream",
     "text": [
      "100%|██████████| 38378/38378 [01:10<00:00, 546.31it/s]\n",
      "100%|██████████| 4265/4265 [00:02<00:00, 1551.98it/s]\n"
     ]
    },
    {
     "name": "stdout",
     "output_type": "stream",
     "text": [
      "Epoch 76 loss: 1.10979 1.19579\n",
      "CAESAR. I would my brother here in Brutus and truly,\n",
      "    Let Marcus give air hands deceive my sake.  \n",
      "    My dearest are vile l\n"
     ]
    },
    {
     "name": "stderr",
     "output_type": "stream",
     "text": [
      "100%|██████████| 38378/38378 [01:10<00:00, 546.31it/s]\n",
      "100%|██████████| 4265/4265 [00:02<00:00, 1551.37it/s]\n"
     ]
    },
    {
     "name": "stdout",
     "output_type": "stream",
     "text": [
      "Epoch 77 loss: 1.10660 1.20308\n",
      "CAESAR. It is my cousin Belmont;\n",
      "    I know him not what I have against your Grace,\n",
      "    And then will not get us to this great \n"
     ]
    },
    {
     "name": "stderr",
     "output_type": "stream",
     "text": [
      "100%|██████████| 38378/38378 [01:10<00:00, 546.68it/s]\n",
      "100%|██████████| 4265/4265 [00:02<00:00, 1551.77it/s]\n"
     ]
    },
    {
     "name": "stdout",
     "output_type": "stream",
     "text": [
      "Epoch 78 loss: 1.10514 1.21585\n",
      "CAESAR. That she is merciful.  \n",
      "  OLIVIA. Caesar lovers Robert and Officer.\n",
      "  SALERIO.                  Ay, and once more,\n",
      "    \n"
     ]
    },
    {
     "name": "stderr",
     "output_type": "stream",
     "text": [
      "100%|██████████| 38378/38378 [01:10<00:00, 546.66it/s]\n",
      "100%|██████████| 4265/4265 [00:02<00:00, 1552.34it/s]\n"
     ]
    },
    {
     "name": "stdout",
     "output_type": "stream",
     "text": [
      "Epoch 79 loss: 1.10746 1.18036\n",
      "CAESAR. O, madam, I say! Take heed, day thou name; Sing.\n",
      "    Your Highness is the King, England's crept!\n",
      "  GLOUCESTER. You're b\n"
     ]
    },
    {
     "name": "stderr",
     "output_type": "stream",
     "text": [
      "100%|██████████| 38378/38378 [01:10<00:00, 546.66it/s]\n",
      "100%|██████████| 4265/4265 [00:02<00:00, 1551.97it/s]\n"
     ]
    },
    {
     "name": "stdout",
     "output_type": "stream",
     "text": [
      "Epoch 80 loss: 1.10457 1.19432\n",
      "CAESAR. Would your Grecian invited should go a fear\n",
      "    Since you were cold?\n",
      "  PEMBROKE. Not yours are twenty too, then, being \n"
     ]
    },
    {
     "name": "stderr",
     "output_type": "stream",
     "text": [
      "100%|██████████| 38378/38378 [01:10<00:00, 546.66it/s]\n",
      "100%|██████████| 4265/4265 [00:02<00:00, 1551.24it/s]\n"
     ]
    },
    {
     "name": "stdout",
     "output_type": "stream",
     "text": [
      "Epoch 81 loss: 1.10475 1.20081\n",
      "CAESAR. And I proper did marriage to church\n",
      "    in match, and anon the world awaked me.\n",
      "    Ah, good my liege, my gracious lord\n"
     ]
    },
    {
     "name": "stderr",
     "output_type": "stream",
     "text": [
      "100%|██████████| 38378/38378 [01:10<00:00, 546.65it/s]\n",
      "100%|██████████| 4265/4265 [00:02<00:00, 1551.28it/s]\n"
     ]
    },
    {
     "name": "stdout",
     "output_type": "stream",
     "text": [
      "Epoch 82 loss: 1.10135 1.20800\n",
      "CAESAR. The maid at your consent discover; no other brains.\n",
      "    If you could not be lame, sweet hands, which effects,\n",
      "    Our p\n"
     ]
    },
    {
     "name": "stderr",
     "output_type": "stream",
     "text": [
      "100%|██████████| 38378/38378 [01:10<00:00, 546.67it/s]\n",
      "100%|██████████| 4265/4265 [00:02<00:00, 1552.11it/s]\n"
     ]
    },
    {
     "name": "stdout",
     "output_type": "stream",
     "text": [
      "Epoch 83 loss: 1.10383 1.19593\n",
      "CAESAR. Come, for you,\n",
      "    It is our pains, comes here I send out;\n",
      "    If thou art so far friends when you vary  \n",
      "    Make your\n"
     ]
    },
    {
     "name": "stderr",
     "output_type": "stream",
     "text": [
      "100%|██████████| 38378/38378 [01:10<00:00, 546.68it/s]\n",
      "100%|██████████| 4265/4265 [00:02<00:00, 1552.32it/s]\n"
     ]
    },
    {
     "name": "stdout",
     "output_type": "stream",
     "text": [
      "Epoch 84 loss: 1.10279 1.19473\n",
      "CAESAR. Shall I lie for a word?\n",
      "  QUEEN ELIZABETH. Not I, not all to be physic!\n",
      "    Thanks, creep with thy beauty, bold with wo\n"
     ]
    },
    {
     "name": "stderr",
     "output_type": "stream",
     "text": [
      "100%|██████████| 38378/38378 [01:10<00:00, 546.68it/s]\n",
      "100%|██████████| 4265/4265 [00:02<00:00, 1552.40it/s]\n"
     ]
    },
    {
     "name": "stdout",
     "output_type": "stream",
     "text": [
      "Epoch 85 loss: 1.09739 1.19410\n",
      "CAESAR. Whither win, vain, are if they are but devis'd,\n",
      "    I were not familiar by my counsel!\n",
      "    Why dear Hector does go his \n"
     ]
    },
    {
     "name": "stderr",
     "output_type": "stream",
     "text": [
      "100%|██████████| 38378/38378 [01:10<00:00, 546.66it/s]\n",
      "100%|██████████| 4265/4265 [00:02<00:00, 1551.23it/s]\n"
     ]
    },
    {
     "name": "stdout",
     "output_type": "stream",
     "text": [
      "Epoch 86 loss: 1.09508 1.20332\n",
      "CAESAR. Alas, I pray thee!\n",
      "  ANNE. Alas, Caesar! take away her from Caesar,\n",
      "    Take here one of York's mind of Brutus intendin\n"
     ]
    },
    {
     "name": "stderr",
     "output_type": "stream",
     "text": [
      "100%|██████████| 38378/38378 [01:10<00:00, 546.67it/s]\n",
      "100%|██████████| 4265/4265 [00:02<00:00, 1552.94it/s]\n"
     ]
    },
    {
     "name": "stdout",
     "output_type": "stream",
     "text": [
      "Epoch 87 loss: 1.09510 1.19954\n",
      "CAESAR. Were I may myself fills my son?\n",
      "  LEPIDUS. Well, my lord.                                       Exit  \n",
      "    [Lords, an\n"
     ]
    },
    {
     "name": "stderr",
     "output_type": "stream",
     "text": [
      "100%|██████████| 38378/38378 [01:10<00:00, 546.66it/s]\n",
      "100%|██████████| 4265/4265 [00:02<00:00, 1552.09it/s]\n"
     ]
    },
    {
     "name": "stdout",
     "output_type": "stream",
     "text": [
      "Epoch 88 loss: 1.09305 1.20067\n",
      "CAESAR. Go to?  \n",
      "  ANTONY. Here is a man of the crown,\n",
      "    Which is the golden days of this manner.\n",
      "    Was it not barb him bef\n"
     ]
    },
    {
     "name": "stderr",
     "output_type": "stream",
     "text": [
      "100%|██████████| 38378/38378 [01:10<00:00, 546.70it/s]\n",
      "100%|██████████| 4265/4265 [00:02<00:00, 1551.67it/s]\n"
     ]
    },
    {
     "name": "stdout",
     "output_type": "stream",
     "text": [
      "Epoch 89 loss: 1.09075 1.18649\n",
      "CAESAR. Now, if we do not, though you were kindred,\n",
      "    Yet knew on't, though the more by prosperity\n",
      "    In all the fashion-\n",
      "  \n"
     ]
    },
    {
     "name": "stderr",
     "output_type": "stream",
     "text": [
      "100%|██████████| 38378/38378 [01:10<00:00, 546.72it/s]\n",
      "100%|██████████| 4265/4265 [00:02<00:00, 1552.50it/s]\n"
     ]
    },
    {
     "name": "stdout",
     "output_type": "stream",
     "text": [
      "Epoch 90 loss: 1.09127 1.18331\n",
      "CAESAR. My lord?\n",
      "  ANTONY. Why, then they are like but a board in the\n",
      "    uncurious sident for a rude popinion.\n",
      "  CAESAR. Ay, s\n"
     ]
    },
    {
     "name": "stderr",
     "output_type": "stream",
     "text": [
      "100%|██████████| 38378/38378 [01:10<00:00, 546.79it/s]\n",
      "100%|██████████| 4265/4265 [00:02<00:00, 1552.57it/s]\n"
     ]
    },
    {
     "name": "stdout",
     "output_type": "stream",
     "text": [
      "Epoch 91 loss: 1.09153 1.20216\n",
      "CAESAR. Ay, good sweet sir, dig with me? Where's his Highness?\n",
      "    All's one most est; we are dead better accord;\n",
      "    Let the g\n"
     ]
    },
    {
     "name": "stderr",
     "output_type": "stream",
     "text": [
      "100%|██████████| 38378/38378 [01:10<00:00, 546.77it/s]\n",
      "100%|██████████| 4265/4265 [00:02<00:00, 1552.44it/s]\n"
     ]
    },
    {
     "name": "stdout",
     "output_type": "stream",
     "text": [
      "Epoch 92 loss: 1.09544 1.18703\n",
      "CAESAR. Now will you resign curs!\n",
      "    Crying no orders of Pompey's part and virtue\n",
      "    In cuckolds of important. You have a fea\n"
     ]
    },
    {
     "name": "stderr",
     "output_type": "stream",
     "text": [
      "100%|██████████| 38378/38378 [01:10<00:00, 546.78it/s]\n",
      "100%|██████████| 4265/4265 [00:02<00:00, 1552.14it/s]\n"
     ]
    },
    {
     "name": "stdout",
     "output_type": "stream",
     "text": [
      "Epoch 93 loss: 1.09017 1.18895\n",
      "CAESAR. Ay, and you have, my lord. Why, how follows have\n",
      "    you?\n",
      "  SEBASTIAN. Do you not see me ever here from Cupid's day!\n",
      "  \n"
     ]
    },
    {
     "name": "stderr",
     "output_type": "stream",
     "text": [
      "100%|██████████| 38378/38378 [01:10<00:00, 546.68it/s]\n",
      "100%|██████████| 4265/4265 [00:02<00:00, 1552.05it/s]\n"
     ]
    },
    {
     "name": "stdout",
     "output_type": "stream",
     "text": [
      "Epoch 94 loss: 1.08477 1.19522\n",
      "CAESAR. Alas, my noble DutCh!\n",
      "  HELENA. Your mean hard- if he are in sight upon him.\n",
      "\n",
      "                          Enter forces wi\n"
     ]
    },
    {
     "name": "stderr",
     "output_type": "stream",
     "text": [
      "100%|██████████| 38378/38378 [01:10<00:00, 546.66it/s]\n",
      "100%|██████████| 4265/4265 [00:02<00:00, 1551.66it/s]\n"
     ]
    },
    {
     "name": "stdout",
     "output_type": "stream",
     "text": [
      "Epoch 95 loss: 1.08659 1.20206\n",
      "CAESAR. No matter when they did.\n",
      "  CASSIUS. Will you put that rott in more, Mark Antony?  \n",
      "  DECIUS. The December bid him cryin\n"
     ]
    },
    {
     "name": "stderr",
     "output_type": "stream",
     "text": [
      "100%|██████████| 38378/38378 [01:10<00:00, 546.67it/s]\n",
      "100%|██████████| 4265/4265 [00:02<00:00, 1551.80it/s]\n"
     ]
    },
    {
     "name": "stdout",
     "output_type": "stream",
     "text": [
      "Epoch 96 loss: 1.08797 1.18045\n",
      "CAESAR. Will you bring him forth?\n",
      "  OCTAVIA. He so much, madam?\n",
      "  ENOBARBUS. Have done thy daughters hither?\n",
      "  ANTONY. Remember\n"
     ]
    },
    {
     "name": "stderr",
     "output_type": "stream",
     "text": [
      "100%|██████████| 38378/38378 [01:10<00:00, 546.67it/s]\n",
      "100%|██████████| 4265/4265 [00:02<00:00, 1551.95it/s]\n"
     ]
    },
    {
     "name": "stdout",
     "output_type": "stream",
     "text": [
      "Epoch 97 loss: 1.08528 1.17625\n",
      "CAESAR. I am to Henry, and grow to this fortune\n",
      "    All employments.\n",
      "  AGRIPPA. Sweet orchard,\n",
      "    Menen over to the nightpos\n"
     ]
    },
    {
     "name": "stderr",
     "output_type": "stream",
     "text": [
      "100%|██████████| 38378/38378 [01:10<00:00, 546.65it/s]\n",
      "100%|██████████| 4265/4265 [00:02<00:00, 1552.28it/s]\n"
     ]
    },
    {
     "name": "stdout",
     "output_type": "stream",
     "text": [
      "Epoch 98 loss: 1.08100 1.18335\n",
      "CAESAR. I am most blast with a present man's dead.  \n",
      "\n",
      "                              Enter SOLDIER\n",
      "  \n",
      "  SOMERSET. Come on; this \n"
     ]
    },
    {
     "name": "stderr",
     "output_type": "stream",
     "text": [
      "100%|██████████| 38378/38378 [01:10<00:00, 546.65it/s]\n",
      "100%|██████████| 4265/4265 [00:02<00:00, 1551.82it/s]\n"
     ]
    },
    {
     "name": "stdout",
     "output_type": "stream",
     "text": [
      "Epoch 99 loss: 1.08752 1.19647\n",
      "CAESAR. Caesar and not I:\n",
      "    Since I did welcome was thought a fair affairs\n",
      "    Shall strong instinct pass.\n",
      "  CAESAR. Prithee,\n"
     ]
    },
    {
     "data": {
      "image/png": "[encoded data removed]",
      "text/plain": [
       "<Figure size 432x288 with 1 Axes>"
      ]
     },
     "metadata": {
      "needs_background": "light"
     },
     "output_type": "display_data"
    }
   ],
   "source": [
    "import matplotlib.pyplot as plt\n",
    "import tqdm\n",
    "\n",
    "\n",
    "def iterate_batches(data, batch_size, device):\n",
    "    x, y, max_len = [], [], 0\n",
    "    for k in tqdm.tqdm(range(len(data))):\n",
    "        item = data[k]\n",
    "        x.append([sym2idx[sym] for sym in [\"<start>\"] + list(item)])\n",
    "        y.append([sym2idx[sym] for sym in list(item) + [\"<end>\"]])\n",
    "        max_len = max(max_len, len(x[-1]))\n",
    "        if len(x) == batch_size or k + 1 == len(data):\n",
    "            for i in range(len(x)):\n",
    "                x[i] = x[i] + [sym2idx[\"<empty>\"] for _ in range(max_len - len(x[i]))]\n",
    "                y[i] = y[i] + [sym2idx[\"<empty>\"] for _ in range(max_len - len(y[i]))]\n",
    "            x = torch.tensor(x).to(device)\n",
    "            y = torch.tensor(y).to(device)\n",
    "            yield x, y\n",
    "            x, y, max_len = [], [], 0\n",
    "        \n",
    "\n",
    "def train_epoch(data, model):\n",
    "    model.train()\n",
    "    loss_function = torch.nn.CrossEntropyLoss()\n",
    "    #optimizer = torch.optim.SGD(model.parameters(), lr=0.01, momentum=0.9)\n",
    "    optimizer = torch.optim.AdamW(model.parameters())\n",
    "    total_loss, total_count = 0.0, 1e-38\n",
    "    random.shuffle(data)\n",
    "    for inputs, answers in iterate_batches(data, batch_size, device):\n",
    "        optimizer.zero_grad()\n",
    "        #print(inputs.shape)\n",
    "        #print(answers.shape)\n",
    "        outputs = model(inputs)\n",
    "        #print(outputs.shape)\n",
    "        outputs = outputs.transpose(1, 2)\n",
    "        #print(outputs.shape)\n",
    "        #print(\"\")\n",
    "        loss = loss_function(outputs, answers)\n",
    "        total_loss += (loss.item() * inputs.shape[0])\n",
    "        total_count += inputs.shape[0]\n",
    "        loss.backward()\n",
    "        optimizer.step()\n",
    "    return total_loss / total_count\n",
    "\n",
    "def test_epoch(data, model):\n",
    "    with torch.no_grad():\n",
    "        model.eval()\n",
    "        loss_function = torch.nn.CrossEntropyLoss()\n",
    "        total_loss, total_count = 0.0, 1e-38\n",
    "        for inputs, answers in iterate_batches(data, batch_size, device):\n",
    "            outputs = model(inputs)\n",
    "            outputs = outputs.transpose(1, 2)\n",
    "            loss = loss_function(outputs, answers)\n",
    "            total_loss += (loss.item() * inputs.shape[0])\n",
    "            total_count += inputs.shape[0]\n",
    "        return total_loss / total_count\n",
    "\n",
    "train_losses, test_losses = [], []\n",
    "for i in range(epoch_count):\n",
    "    train_loss = train_epoch(train, model)\n",
    "    test_loss = test_epoch(test, model)\n",
    "    train_losses.append(train_loss)\n",
    "    test_losses.append(test_loss)\n",
    "    print(\"Epoch {} loss: {:.5f} {:.5f}\".format(i, train_loss, test_loss))\n",
    "    print(generate(model, max_seq_len))\n",
    "    print(\"\")\n",
    "plt.plot(train_losses)\n",
    "plt.plot(test_losses)\n",
    "plt.show()"
   ]
  },
  {
   "cell_type": "code",
   "execution_count": null,
   "metadata": {},
   "outputs": [],
   "source": []
  }
 ],
 "metadata": {
  "kernelspec": {
   "display_name": "Python 3 (ipykernel)",
   "language": "python",
   "name": "python3"
  },
  "language_info": {
   "codemirror_mode": {
    "name": "ipython",
    "version": 3
   },
   "file_extension": ".py",
   "mimetype": "text/x-python",
   "name": "python",
   "nbconvert_exporter": "python",
   "pygments_lexer": "ipython3",
   "version": "3.10.12"
  }
 },
 "nbformat": 4,
 "nbformat_minor": 4
}
