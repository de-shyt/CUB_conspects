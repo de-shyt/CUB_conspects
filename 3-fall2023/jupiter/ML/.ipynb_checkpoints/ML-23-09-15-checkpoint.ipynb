{
 "cells": [
  {
   "cell_type": "markdown",
   "id": "9d2049b1",
   "metadata": {},
   "source": [
    "# Linear models"
   ]
  },
  {
   "cell_type": "markdown",
   "id": "5acb90ff",
   "metadata": {},
   "source": [
    "## Generate data\n",
    "\n",
    "We are given a set of coefficients. We want to try different methods to find a set of coefficients for the linear model that approximates the given ones. \n",
    "\n",
    "We are going to generate $m$ examples, each of them consists of $n$ features. \n",
    "\n",
    "In our examples, $n = 3$. Each label (a target value a.k.a $y$) has a form of $1  x_0 + 2 x_1 + 3 x_2 + \\texttt{noise}$. We add noise to make the task a bit harder for the model."
   ]
  },
  {
   "cell_type": "code",
   "execution_count": 12,
   "id": "45436c6d",
   "metadata": {},
   "outputs": [
    {
     "name": "stdout",
     "output_type": "stream",
     "text": [
      "(1000, 3) (1000,)\n"
     ]
    }
   ],
   "source": [
    "import random\n",
    "import numpy as np\n",
    "\n",
    " \n",
    "\"\"\"\n",
    "Generates training dataset\n",
    "- `A` is an array of given coefficients\n",
    "- `m` is the number of exmaples to generate\n",
    "- `noise` is the scale of noise that will be added to the target variable \n",
    "to make the data more realistic.\n",
    "\"\"\"\n",
    "def generate_data(A, m, noise):\n",
    "    n = len(A)\n",
    "    X = np.random.normal(0, 1, (m, n))\n",
    "    y = np.dot(X, A) + np.random.normal(0, noise, m)\n",
    "    return X, y\n",
    "\n",
    "\n",
    "X_train, y_train = generate_data([1, 2, 3], 1000, 0.01)\n",
    "print(X_train.shape, y_train.shape)"
   ]
  },
  {
   "cell_type": "markdown",
   "id": "aad98f7f",
   "metadata": {},
   "source": [
    "## Solve with Moore-Penrose inverse method\n",
    "\n",
    "We want to solve the equation $Xa = y$ => $a = X^{-1}y$. If $X$ is not inverse, use $a = (X^TX)^{-1}X^Ty$"
   ]
  },
  {
   "cell_type": "code",
   "execution_count": 13,
   "id": "dd724af0",
   "metadata": {},
   "outputs": [
    {
     "name": "stdout",
     "output_type": "stream",
     "text": [
      "[0.99948116 2.00088696 3.00028092]\n"
     ]
    }
   ],
   "source": [
    "def solve_pseudo_inverse(X, y):\n",
    "    matrix = np.linalg.inv(np.dot(X.T, X))\n",
    "    return np.dot(np.dot(matrix, X.T), y)\n",
    "\n",
    "print(solve_pseudo_inverse(X_train, y_train))"
   ]
  },
  {
   "cell_type": "markdown",
   "id": "4370b2b2",
   "metadata": {},
   "source": [
    "As you can see, we got coefficients that are really close to the initial coefs `[1, 2, 3]`."
   ]
  },
  {
   "cell_type": "markdown",
   "id": "c615c6d3",
   "metadata": {},
   "source": [
    "## Solve using `LinearRegression` model\n",
    "\n",
    "`solve_sklearn` uses `LinearRegression` model to fit the training data and find the coefficients."
   ]
  },
  {
   "cell_type": "code",
   "execution_count": 14,
   "id": "59754295",
   "metadata": {},
   "outputs": [
    {
     "name": "stdout",
     "output_type": "stream",
     "text": [
      "[0.99948148 2.00087916 3.00028185]\n"
     ]
    }
   ],
   "source": [
    "import sklearn\n",
    "from sklearn.linear_model import LinearRegression\n",
    "\n",
    "\n",
    "def solve_sklearn(X, y):\n",
    "    model = LinearRegression()\n",
    "    model.fit(X, y)\n",
    "    print(model.coef_)\n",
    "\n",
    "\n",
    "solve_sklearn(X_train, y_train)"
   ]
  },
  {
   "cell_type": "markdown",
   "id": "d6f15d5f",
   "metadata": {},
   "source": [
    "## Solve using the Stochastic Gradient Descent function\n",
    "\n",
    "We can use a loss function $L = (y_{pred} - y_{real})^2 = (\\sum\\limits_0^{n-1}a_ix_i - y_{real})^2$. We are going to use the gradient of the loss function. The gradient is a matrix consisting of derivatives, each of them has a form $\\frac{\\Delta L}{\\Delta a_i} = L'_{a_i} = 2 (\\sum\\limits_0^{n-1}a_ix_i - y_{real}) x_i$"
   ]
  },
  {
   "cell_type": "code",
   "execution_count": 23,
   "id": "dd2e9c20",
   "metadata": {},
   "outputs": [
    {
     "name": "stdout",
     "output_type": "stream",
     "text": [
      "[[-26.8491756   -2.45741697   3.16144475 ...  -0.1274056   -4.47498158\n",
      "    1.3594087 ]\n",
      " [ -6.23342026  -5.51367245   0.17752988 ...  -0.91177041   2.59572849\n",
      "    0.43512033]\n",
      " [-11.18749273   0.90534024  -1.98764879 ... -11.760019    -3.63902316\n",
      "   -1.35090084]]\n",
      "[0.99948116 2.00088696 3.00028092]\n"
     ]
    }
   ],
   "source": [
    "def solve_sgd(X, y, iterations, learning_rate):\n",
    "    n = X.shape[1]\n",
    "    a = np.zeros(n)\n",
    "    \n",
    "    for i in range(iterations):\n",
    "        t = 2 * (np.dot(X, a) - y) * X.T\n",
    "        t = np.mean(t, axis = 1)\n",
    "        a -= t * learning_rate\n",
    "    return a\n",
    "    \n",
    "print (solve_sgd(X_train, y_train, 1000, 0.01))"
   ]
  },
  {
   "cell_type": "markdown",
   "id": "d8a467cb",
   "metadata": {},
   "source": [
    "The `solve_sgd` function first initializes vector `a` with zeros and iteratively updates it in order to minimize the loss function error. In each iteration, it computes the gradient `t` for the current vector `a` and updates the coefficients.\n",
    "\n",
    "`np.mean(t, axis = 1)` finds the average over all examples in the dataset. For example, $t_1$ is the average of derivatives' values for the coefficient $a_1$. \n",
    "\n",
    "`learning_rate` is a hyperparameter that determines the step size in the direction of the gradient. Typically, it is a positive number between $0$ and $1$ that scales the gradient before applying it to update coefficients.\n",
    "\n"
   ]
  },
  {
   "cell_type": "markdown",
   "id": "c5f222b9",
   "metadata": {},
   "source": [
    "## Check for overfitting"
   ]
  },
  {
   "cell_type": "code",
   "execution_count": 24,
   "id": "2d61f672",
   "metadata": {},
   "outputs": [],
   "source": [
    "import matplotlib.pyplot as plt\n",
    "\n",
    "def calculate_loss(a, X, y):\n",
    "    t = np.dot(X, a) - y\n",
    "    t *= t\n",
    "    return np.mean(t)\n",
    "\n",
    "def solve_sgd_and_plot(X_train, y_train, X_test, y_test, iterations, learning_rate):\n",
    "    n = X_train.shape[1]\n",
    "    a = np.zeros(n)\n",
    "    train_losses, test_losses = [], []\n",
    "    \n",
    "    for _ in range(iterations):\n",
    "        t = 2 * (np.dot(X_train, a) - y_train) * X_train.T\n",
    "        t = np.mean(t, axis = 1)\n",
    "        a -= t * learning_rate\n",
    "        train_losses.append(calculate_loss(a, X_train, y_train))\n",
    "        test_losses.append(calculate_loss(a, X_test, y_test))\n",
    "        \n",
    "    plt.plot(train_losses, label = 'train')\n",
    "    plt.plot(test_losses, label = 'test')\n",
    "    plt.legend()\n",
    "    plt.show()\n",
    "    \n",
    "    return a"
   ]
  },
  {
   "cell_type": "markdown",
   "id": "3e0d3d40",
   "metadata": {},
   "source": [
    "Lets add more noise into the training and test datasets while generating data (`noise = 10.01`). We get coefficients far from the initial ones. As a result, the model overfits: the `test` curve does not go as the `train` curve. "
   ]
  },
  {
   "cell_type": "code",
   "execution_count": 27,
   "id": "36001bdb",
   "metadata": {
    "scrolled": false
   },
   "outputs": [
    {
     "data": {
      "image/png": "[encoded data removed]",
      "text/plain": [
       "<Figure size 640x480 with 1 Axes>"
      ]
     },
     "metadata": {},
     "output_type": "display_data"
    },
    {
     "name": "stdout",
     "output_type": "stream",
     "text": [
      "[1.62124422 1.76397259 3.24419699]\n"
     ]
    }
   ],
   "source": [
    "X_train, y_train = generate_data([1, 2, 3], 1000, 10.01)\n",
    "X_test, y_test = generate_data([1, 2, 3], 100, 10.01)\n",
    "print(solve_sgd_and_plot(X_train, y_train, X_test, y_test, 1000, 0.01))"
   ]
  },
  {
   "cell_type": "markdown",
   "id": "1a83669e",
   "metadata": {},
   "source": [
    "Now lets remove noise (`noise = 0.01`):"
   ]
  },
  {
   "cell_type": "code",
   "execution_count": 28,
   "id": "f0b6175f",
   "metadata": {},
   "outputs": [
    {
     "data": {
      "image/png": "[encoded data removed]",
      "text/plain": [
       "<Figure size 640x480 with 1 Axes>"
      ]
     },
     "metadata": {},
     "output_type": "display_data"
    },
    {
     "name": "stdout",
     "output_type": "stream",
     "text": [
      "[1.00013256 1.99924077 2.99994955]\n"
     ]
    }
   ],
   "source": [
    "X_train, y_train = generate_data([1, 2, 3], 1000, 0.01)\n",
    "X_test, y_test = generate_data([1, 2, 3], 100, 0.01)\n",
    "print(solve_sgd_and_plot(X_train, y_train, X_test, y_test, 1000, 0.01))"
   ]
  },
  {
   "cell_type": "markdown",
   "id": "b02c7dd5",
   "metadata": {},
   "source": [
    "# Decision trees"
   ]
  },
  {
   "cell_type": "markdown",
   "id": "9992bf65",
   "metadata": {},
   "source": [
    "## Boosting tree "
   ]
  },
  {
   "cell_type": "code",
   "execution_count": 12,
   "id": "78fb9ff3",
   "metadata": {
    "scrolled": true
   },
   "outputs": [],
   "source": [
    "import catboost\n",
    "\n",
    "\n",
    "def solve_catboost(X, y, iterations, learning_rate, depth):\n",
    "    model = catboost.CatBoostRegressor(iterations = iterations, \n",
    "                                       learning_rate = learning_rate, \n",
    "                                       depth = depth)\n",
    "    model.fit(X, y, verbose = False)\n",
    "    return model\n",
    "    \n",
    "    \n",
    "X_train, y_train = generate_data([1, 2, 3], 1000, 10.01)\n",
    "X_test, y_test = generate_data([1, 2, 3], 100, 10.01)\n",
    "model = solve_catboost(X_train, y_train, 1000, 0.1, 6)\n",
    "\n",
    "\n",
    "def plot_catboost(X_train, y_train, X_test, y_test, model):\n",
    "    m = model.tree_count_\n",
    "    train_losses, test_losses = [], []\n",
    "    for _ in range(m):\n",
    "        t = model.predict(X_train)\n",
    "        \n",
    "        \n",
    "plot_catboost(X_train, y_train, X_test, y_test, model)"
   ]
  },
  {
   "cell_type": "markdown",
   "id": "ec81edef",
   "metadata": {},
   "source": []
  }
 ],
 "metadata": {
  "kernelspec": {
   "display_name": "Python 3 (ipykernel)",
   "language": "python",
   "name": "python3"
  },
  "language_info": {
   "codemirror_mode": {
    "name": "ipython",
    "version": 3
   },
   "file_extension": ".py",
   "mimetype": "text/x-python",
   "name": "python",
   "nbconvert_exporter": "python",
   "pygments_lexer": "ipython3",
   "version": "3.10.12"
  }
 },
 "nbformat": 4,
 "nbformat_minor": 5
}
