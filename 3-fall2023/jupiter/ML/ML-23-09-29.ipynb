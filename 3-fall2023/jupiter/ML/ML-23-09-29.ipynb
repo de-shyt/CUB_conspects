{
 "cells": [
  {
   "cell_type": "markdown",
   "id": "46fa1cf5",
   "metadata": {},
   "source": [
    "## Initial install"
   ]
  },
  {
   "cell_type": "raw",
   "id": "3a66665e",
   "metadata": {},
   "source": [
    "# install transformers \n",
    "pip3 install git+https://github.com/huggingface/transformers\n",
    "pip3 install torch"
   ]
  },
  {
   "cell_type": "markdown",
   "id": "2be206c4",
   "metadata": {},
   "source": [
    "The way of using transformers:"
   ]
  },
  {
   "cell_type": "raw",
   "id": "61e82d7e",
   "metadata": {
    "scrolled": true
   },
   "source": [
    "from transformers import pipeline\n",
    "\n",
    "# Create a text generation pipeline with the Mistral-7B model\n",
    "pipe = pipeline(\"text-generation\", model=\"mistralai/Mistral-7B-v0.1\")\n",
    "\n",
    "# Generate text based on a prompt\n",
    "prompt = \"Once upon a time, in a land far, far away\"\n",
    "generated_text = pipe(prompt, max_length=10, num_return_sequences=1, do_sample=True)\n",
    "\n",
    "# Print the generated text\n",
    "print(generated_text[0]['generated_text'])"
   ]
  },
  {
   "cell_type": "markdown",
   "id": "038df957",
   "metadata": {},
   "source": [
    "Use the code on your machine, nly if you have about 16 GB of the free space :)"
   ]
  },
  {
   "cell_type": "code",
   "execution_count": null,
   "id": "f260b82c",
   "metadata": {},
   "outputs": [],
   "source": []
  }
 ],
 "metadata": {
  "kernelspec": {
   "display_name": "Python 3 (ipykernel)",
   "language": "python",
   "name": "python3"
  },
  "language_info": {
   "codemirror_mode": {
    "name": "ipython",
    "version": 3
   },
   "file_extension": ".py",
   "mimetype": "text/x-python",
   "name": "python",
   "nbconvert_exporter": "python",
   "pygments_lexer": "ipython3",
   "version": "3.10.12"
  }
 },
 "nbformat": 4,
 "nbformat_minor": 5
}
