{
 "cells": [
  {
   "cell_type": "markdown",
   "id": "46fa1cf5",
   "metadata": {},
   "source": [
    "## Initial install"
   ]
  },
  {
   "cell_type": "code",
   "execution_count": null,
   "id": "b04b2711",
   "metadata": {},
   "outputs": [],
   "source": [
    "# install transformers \n",
    "pip3 install git+https://github.com/huggingface/transformers"
   ]
  }
 ],
 "metadata": {
  "kernelspec": {
   "display_name": "Python 3 (ipykernel)",
   "language": "python",
   "name": "python3"
  },
  "language_info": {
   "codemirror_mode": {
    "name": "ipython",
    "version": 3
   },
   "file_extension": ".py",
   "mimetype": "text/x-python",
   "name": "python",
   "nbconvert_exporter": "python",
   "pygments_lexer": "ipython3",
   "version": "3.10.12"
  }
 },
 "nbformat": 4,
 "nbformat_minor": 5
}
